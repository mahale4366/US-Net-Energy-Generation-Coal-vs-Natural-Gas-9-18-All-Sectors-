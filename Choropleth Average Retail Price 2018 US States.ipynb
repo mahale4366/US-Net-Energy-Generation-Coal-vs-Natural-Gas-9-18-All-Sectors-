{
 "cells": [
  {
   "cell_type": "code",
   "execution_count": 4,
   "metadata": {},
   "outputs": [
    {
     "data": {
      "text/html": [
       "        <script type=\"text/javascript\">\n",
       "        window.PlotlyConfig = {MathJaxConfig: 'local'};\n",
       "        if (window.MathJax) {MathJax.Hub.Config({SVG: {font: \"STIX-Web\"}});}\n",
       "        if (typeof require !== 'undefined') {\n",
       "        require.undef(\"plotly\");\n",
       "        requirejs.config({\n",
       "            paths: {\n",
       "                'plotly': ['https://cdn.plot.ly/plotly-latest.min']\n",
       "            }\n",
       "        });\n",
       "        require(['plotly'], function(Plotly) {\n",
       "            window._Plotly = Plotly;\n",
       "        });\n",
       "        }\n",
       "        </script>\n",
       "        "
      ]
     },
     "metadata": {},
     "output_type": "display_data"
    }
   ],
   "source": [
    "import chart_studio.plotly as py\n",
    "import plotly.graph_objs as go\n",
    "import pandas as pd\n",
    "from plotly.offline import download_plotlyjs,init_notebook_mode,plot,iplot\n",
    "init_notebook_mode(connected=True)\n",
    "\n",
    "df = pd.read_html(r'https://www.eia.gov/electricity/state/')\n",
    "df1 = pd.read_csv('2011_US_AGRI_Exports')\n",
    "df1.code.drop(10)\n",
    "df = pd.read_html(r'https://www.eia.gov/electricity/state/')\n",
    "df = df[0].drop(11).drop(51).drop(8)\n",
    "df.reset_index(inplace=True)\n",
    "df1 = df1.drop(10)\n",
    "df1 = df1.code.reset_index()\n",
    "df3 = pd.concat([df,df1],axis=1)\n",
    "df3.reset_index(inplace=True)\n",
    "df3.drop('index',axis=1,inplace=True)\n",
    "df3[\"text\"] = df3['Name'].astype(str) + ', Net summer capacity (MW): '+ df3['Net summer capacity (MW)'].astype(str) + ', Net generation (MWh): ' + df3['Net generation (MWh)'].astype(str) + ', Total retail sales (MWh): '+ df3['Total retail sales (MWh)'].astype(str)\n",
    "\n",
    "scl = [\n",
    "    [0.0, 'rgb(255,255,255)'],\n",
    "    [.25, 'rgb(0, 255, 0)'],\n",
    "    [.50, 'rgb(255, 254, 25)'],\n",
    "    [.75, 'rgb(255, 0, 0)'],\n",
    "    [1.0, 'rgb(0, 0, 0)']\n",
    "    ]\n",
    "data = dict(type='choropleth',\n",
    "            colorscale = scl,\n",
    "            autocolorscale=False,\n",
    "            locations = df3['code'],\n",
    "            z = df3['Average retail price (cents/kWh)'],\n",
    "            locationmode = 'USA-states',\n",
    "             text = df3['text'],\n",
    "            marker = dict(line = dict(color = 'rgb(0,0,0)',width = 1)),\n",
    "            colorbar = {'title':\"Average Retail Price (cents/kWh)\",}\n",
    "            ) \n",
    "\n",
    "layout = dict(title = 'Average Retail Price US, 2018 (cents/kWh)(Excluding HI)',\n",
    "              geo = dict(scope='usa',\n",
    "                         showlakes = True,\n",
    "                         lakecolor = 'rgb(85,173,240)')\n",
    "             )"
   ]
  },
  {
   "cell_type": "code",
   "execution_count": 5,
   "metadata": {},
   "outputs": [
    {
     "data": {
      "application/vnd.plotly.v1+json": {
       "config": {
        "linkText": "Export to plot.ly",
        "plotlyServerURL": "https://plot.ly",
        "showLink": false
       },
       "data": [
        {
         "autocolorscale": false,
         "colorbar": {
          "title": {
           "text": "Average Retail Price (cents/kWh)"
          }
         },
         "colorscale": [
          [
           0,
           "rgb(255,255,255)"
          ],
          [
           0.25,
           "rgb(0, 255, 0)"
          ],
          [
           0.5,
           "rgb(255, 254, 25)"
          ],
          [
           0.75,
           "rgb(255, 0, 0)"
          ],
          [
           1,
           "rgb(0, 0, 0)"
          ]
         ],
         "locationmode": "USA-states",
         "locations": [
          "AL",
          "AK",
          "AZ",
          "AR",
          "CA",
          "CO",
          "CT",
          "DE",
          "FL",
          "GA",
          "ID",
          "IL",
          "IN",
          "IA",
          "KS",
          "KY",
          "LA",
          "ME",
          "MD",
          "MA",
          "MI",
          "MN",
          "MS",
          "MO",
          "MT",
          "NE",
          "NV",
          "NH",
          "NJ",
          "NM",
          "NY",
          "NC",
          "ND",
          "OH",
          "OK",
          "OR",
          "PA",
          "RI",
          "SC",
          "SD",
          "TN",
          "TX",
          "UT",
          "VT",
          "VA",
          "WA",
          "WV",
          "WI",
          "WY"
         ],
         "marker": {
          "line": {
           "color": "rgb(0,0,0)",
           "width": 1
          }
         },
         "text": [
          "Alabama, Net summer capacity (MW): 30118, Net generation (MWh): 145057994, Total retail sales (MWh): 90285545",
          "Alaska, Net summer capacity (MW): 2745, Net generation (MWh): 6247359, Total retail sales (MWh): 5972467",
          "Arizona, Net summer capacity (MW): 28672, Net generation (MWh): 111925144, Total retail sales (MWh): 78346302",
          "Arkansas, Net summer capacity (MW): 14763, Net generation (MWh): 67999352, Total retail sales (MWh): 49602708",
          "California, Net summer capacity (MW): 75926, Net generation (MWh): 195265412, Total retail sales (MWh): 255349610",
          "Colorado, Net summer capacity (MW): 16590, Net generation (MWh): 55386279, Total retail sales (MWh): 56450480",
          "Connecticut, Net summer capacity (MW): 9833, Net generation (MWh): 39453552, Total retail sales (MWh): 28833925",
          "Delaware, Net summer capacity (MW): 3378, Net generation (MWh): 6240644, Total retail sales (MWh): 11773100",
          "Florida, Net summer capacity (MW): 57359, Net generation (MWh): 244252010, Total retail sales (MWh): 238993089",
          "Georgia, Net summer capacity (MW): 36989, Net generation (MWh): 129239355, Total retail sales (MWh): 139866074",
          "Idaho, Net summer capacity (MW): 5210, Net generation (MWh): 18172120, Total retail sales (MWh): 23753508",
          "Illinois, Net summer capacity (MW): 45631, Net generation (MWh): 188003357, Total retail sales (MWh): 142654808",
          "Indiana, Net summer capacity (MW): 26696, Net generation (MWh): 113459711, Total retail sales (MWh): 104217003",
          "Iowa, Net summer capacity (MW): 18842, Net generation (MWh): 63380566, Total retail sales (MWh): 51213960",
          "Kansas, Net summer capacity (MW): 15631, Net generation (MWh): 51710213, Total retail sales (MWh): 42044003",
          "Kentucky, Net summer capacity (MW): 20120, Net generation (MWh): 78804497, Total retail sales (MWh): 76610636",
          "Louisiana, Net summer capacity (MW): 23162, Net generation (MWh): 102128500, Total retail sales (MWh): 94186072",
          "Maine, Net summer capacity (MW): 4864, Net generation (MWh): 11280700, Total retail sales (MWh): 12354819",
          "Maryland, Net summer capacity (MW): 14777, Net generation (MWh): 43809646, Total retail sales (MWh): 62086455",
          "Massachusetts, Net summer capacity (MW): 12875, Net generation (MWh): 27172882, Total retail sales (MWh): 53285029",
          "Michigan, Net summer capacity (MW): 29720, Net generation (MWh): 115837095, Total retail sales (MWh): 104869496",
          "Minnesota, Net summer capacity (MW): 16954, Net generation (MWh): 61517442, Total retail sales (MWh): 68729377",
          "Mississippi, Net summer capacity (MW): 14733, Net generation (MWh): 63473771, Total retail sales (MWh): 50390068",
          "Missouri, Net summer capacity (MW): 21078, Net generation (MWh): 81435776, Total retail sales (MWh): 82058027",
          "Montana, Net summer capacity (MW): 6356, Net generation (MWh): 28195174, Total retail sales (MWh): 14838845",
          "Nebraska, Net summer capacity (MW): 8984, Net generation (MWh): 36966216, Total retail sales (MWh): 30939492",
          "Nevada, Net summer capacity (MW): 11494, Net generation (MWh): 39640241, Total retail sales (MWh): 37780263",
          "New Hampshire, Net summer capacity (MW): 4469, Net generation (MWh): 17087156, Total retail sales (MWh): 11046284",
          "New Jersey, Net summer capacity (MW): 17403, Net generation (MWh): 75033600, Total retail sales (MWh): 76016762",
          "New Mexico, Net summer capacity (MW): 8431, Net generation (MWh): 32673682, Total retail sales (MWh): 24048611",
          "New York, Net summer capacity (MW): 41124, Net generation (MWh): 132520498, Total retail sales (MWh): 149929851",
          "North Carolina, Net summer capacity (MW): 34178, Net generation (MWh): 134249497, Total retail sales (MWh): 138293957",
          "North Dakota, Net summer capacity (MW): 8381, Net generation (MWh): 42615321, Total retail sales (MWh): 20669506",
          "Ohio, Net summer capacity (MW): 29142, Net generation (MWh): 126184610, Total retail sales (MWh): 152915167",
          "Oklahoma, Net summer capacity (MW): 27401, Net generation (MWh): 86223721, Total retail sales (MWh): 64575316",
          "Oregon, Net summer capacity (MW): 16590, Net generation (MWh): 64113560, Total retail sales (MWh): 49347814",
          "Pennsylvania, Net summer capacity (MW): 48558, Net generation (MWh): 215385830, Total retail sales (MWh): 148976731",
          "Rhode Island, Net summer capacity (MW): 1958, Net generation (MWh): 8375257, Total retail sales (MWh): 7583339",
          "South Carolina, Net summer capacity (MW): 23662, Net generation (MWh): 99364088, Total retail sales (MWh): 81787241",
          "South Dakota, Net summer capacity (MW): 4169, Net generation (MWh): 12616396, Total retail sales (MWh): 12865645",
          "Tennessee, Net summer capacity (MW): 21349, Net generation (MWh): 81554934, Total retail sales (MWh): 102911183",
          "Texas, Net summer capacity (MW): 122159, Net generation (MWh): 477352424, Total retail sales (MWh): 424528419",
          "Utah, Net summer capacity (MW): 9003, Net generation (MWh): 39375424, Total retail sales (MWh): 31242408",
          "Vermont, Net summer capacity (MW): 765, Net generation (MWh): 2178915, Total retail sales (MWh): 5530948",
          "Virginia, Net summer capacity (MW): 29635, Net generation (MWh): 95506976, Total retail sales (MWh): 118186645",
          "Washington, Net summer capacity (MW): 30983, Net generation (MWh): 116756729, Total retail sales (MWh): 90005791",
          "West Virginia, Net summer capacity (MW): 14851, Net generation (MWh): 67249025, Total retail sales (MWh): 33646813",
          "Wisconsin, Net summer capacity (MW): 15516, Net generation (MWh): 65936767, Total retail sales (MWh): 70965457",
          "Wyoming, Net summer capacity (MW): 8673, Net generation (MWh): 46112136, Total retail sales (MWh): 16864678"
         ],
         "type": "choropleth",
         "z": [
          9.63,
          19.36,
          10.85,
          7.78,
          16.58,
          10.02,
          18.41,
          10.55,
          10.31,
          9.62,
          8.17,
          9.6,
          9.75,
          8.92,
          10.72,
          8.52,
          7.71,
          13.44,
          11.57,
          18.5,
          11.4,
          10.37,
          9.24,
          9.93,
          8.84,
          9.02,
          8.67,
          17.01,
          13.23,
          9.35,
          14.83,
          9.25,
          8.91,
          9.94,
          8.09,
          8.85,
          10.1,
          18.1,
          9.66,
          9.97,
          9.58,
          8.48,
          8.21,
          15.13,
          9.48,
          8,
          8.72,
          10.58,
          8.09
         ]
        }
       ],
       "layout": {
        "geo": {
         "lakecolor": "rgb(85,173,240)",
         "scope": "usa",
         "showlakes": true
        },
        "template": {
         "data": {
          "bar": [
           {
            "error_x": {
             "color": "#2a3f5f"
            },
            "error_y": {
             "color": "#2a3f5f"
            },
            "marker": {
             "line": {
              "color": "#E5ECF6",
              "width": 0.5
             }
            },
            "type": "bar"
           }
          ],
          "barpolar": [
           {
            "marker": {
             "line": {
              "color": "#E5ECF6",
              "width": 0.5
             }
            },
            "type": "barpolar"
           }
          ],
          "carpet": [
           {
            "aaxis": {
             "endlinecolor": "#2a3f5f",
             "gridcolor": "white",
             "linecolor": "white",
             "minorgridcolor": "white",
             "startlinecolor": "#2a3f5f"
            },
            "baxis": {
             "endlinecolor": "#2a3f5f",
             "gridcolor": "white",
             "linecolor": "white",
             "minorgridcolor": "white",
             "startlinecolor": "#2a3f5f"
            },
            "type": "carpet"
           }
          ],
          "choropleth": [
           {
            "colorbar": {
             "outlinewidth": 0,
             "ticks": ""
            },
            "type": "choropleth"
           }
          ],
          "contour": [
           {
            "colorbar": {
             "outlinewidth": 0,
             "ticks": ""
            },
            "colorscale": [
             [
              0,
              "#0d0887"
             ],
             [
              0.1111111111111111,
              "#46039f"
             ],
             [
              0.2222222222222222,
              "#7201a8"
             ],
             [
              0.3333333333333333,
              "#9c179e"
             ],
             [
              0.4444444444444444,
              "#bd3786"
             ],
             [
              0.5555555555555556,
              "#d8576b"
             ],
             [
              0.6666666666666666,
              "#ed7953"
             ],
             [
              0.7777777777777778,
              "#fb9f3a"
             ],
             [
              0.8888888888888888,
              "#fdca26"
             ],
             [
              1,
              "#f0f921"
             ]
            ],
            "type": "contour"
           }
          ],
          "contourcarpet": [
           {
            "colorbar": {
             "outlinewidth": 0,
             "ticks": ""
            },
            "type": "contourcarpet"
           }
          ],
          "heatmap": [
           {
            "colorbar": {
             "outlinewidth": 0,
             "ticks": ""
            },
            "colorscale": [
             [
              0,
              "#0d0887"
             ],
             [
              0.1111111111111111,
              "#46039f"
             ],
             [
              0.2222222222222222,
              "#7201a8"
             ],
             [
              0.3333333333333333,
              "#9c179e"
             ],
             [
              0.4444444444444444,
              "#bd3786"
             ],
             [
              0.5555555555555556,
              "#d8576b"
             ],
             [
              0.6666666666666666,
              "#ed7953"
             ],
             [
              0.7777777777777778,
              "#fb9f3a"
             ],
             [
              0.8888888888888888,
              "#fdca26"
             ],
             [
              1,
              "#f0f921"
             ]
            ],
            "type": "heatmap"
           }
          ],
          "heatmapgl": [
           {
            "colorbar": {
             "outlinewidth": 0,
             "ticks": ""
            },
            "colorscale": [
             [
              0,
              "#0d0887"
             ],
             [
              0.1111111111111111,
              "#46039f"
             ],
             [
              0.2222222222222222,
              "#7201a8"
             ],
             [
              0.3333333333333333,
              "#9c179e"
             ],
             [
              0.4444444444444444,
              "#bd3786"
             ],
             [
              0.5555555555555556,
              "#d8576b"
             ],
             [
              0.6666666666666666,
              "#ed7953"
             ],
             [
              0.7777777777777778,
              "#fb9f3a"
             ],
             [
              0.8888888888888888,
              "#fdca26"
             ],
             [
              1,
              "#f0f921"
             ]
            ],
            "type": "heatmapgl"
           }
          ],
          "histogram": [
           {
            "marker": {
             "colorbar": {
              "outlinewidth": 0,
              "ticks": ""
             }
            },
            "type": "histogram"
           }
          ],
          "histogram2d": [
           {
            "colorbar": {
             "outlinewidth": 0,
             "ticks": ""
            },
            "colorscale": [
             [
              0,
              "#0d0887"
             ],
             [
              0.1111111111111111,
              "#46039f"
             ],
             [
              0.2222222222222222,
              "#7201a8"
             ],
             [
              0.3333333333333333,
              "#9c179e"
             ],
             [
              0.4444444444444444,
              "#bd3786"
             ],
             [
              0.5555555555555556,
              "#d8576b"
             ],
             [
              0.6666666666666666,
              "#ed7953"
             ],
             [
              0.7777777777777778,
              "#fb9f3a"
             ],
             [
              0.8888888888888888,
              "#fdca26"
             ],
             [
              1,
              "#f0f921"
             ]
            ],
            "type": "histogram2d"
           }
          ],
          "histogram2dcontour": [
           {
            "colorbar": {
             "outlinewidth": 0,
             "ticks": ""
            },
            "colorscale": [
             [
              0,
              "#0d0887"
             ],
             [
              0.1111111111111111,
              "#46039f"
             ],
             [
              0.2222222222222222,
              "#7201a8"
             ],
             [
              0.3333333333333333,
              "#9c179e"
             ],
             [
              0.4444444444444444,
              "#bd3786"
             ],
             [
              0.5555555555555556,
              "#d8576b"
             ],
             [
              0.6666666666666666,
              "#ed7953"
             ],
             [
              0.7777777777777778,
              "#fb9f3a"
             ],
             [
              0.8888888888888888,
              "#fdca26"
             ],
             [
              1,
              "#f0f921"
             ]
            ],
            "type": "histogram2dcontour"
           }
          ],
          "mesh3d": [
           {
            "colorbar": {
             "outlinewidth": 0,
             "ticks": ""
            },
            "type": "mesh3d"
           }
          ],
          "parcoords": [
           {
            "line": {
             "colorbar": {
              "outlinewidth": 0,
              "ticks": ""
             }
            },
            "type": "parcoords"
           }
          ],
          "pie": [
           {
            "automargin": true,
            "type": "pie"
           }
          ],
          "scatter": [
           {
            "marker": {
             "colorbar": {
              "outlinewidth": 0,
              "ticks": ""
             }
            },
            "type": "scatter"
           }
          ],
          "scatter3d": [
           {
            "line": {
             "colorbar": {
              "outlinewidth": 0,
              "ticks": ""
             }
            },
            "marker": {
             "colorbar": {
              "outlinewidth": 0,
              "ticks": ""
             }
            },
            "type": "scatter3d"
           }
          ],
          "scattercarpet": [
           {
            "marker": {
             "colorbar": {
              "outlinewidth": 0,
              "ticks": ""
             }
            },
            "type": "scattercarpet"
           }
          ],
          "scattergeo": [
           {
            "marker": {
             "colorbar": {
              "outlinewidth": 0,
              "ticks": ""
             }
            },
            "type": "scattergeo"
           }
          ],
          "scattergl": [
           {
            "marker": {
             "colorbar": {
              "outlinewidth": 0,
              "ticks": ""
             }
            },
            "type": "scattergl"
           }
          ],
          "scattermapbox": [
           {
            "marker": {
             "colorbar": {
              "outlinewidth": 0,
              "ticks": ""
             }
            },
            "type": "scattermapbox"
           }
          ],
          "scatterpolar": [
           {
            "marker": {
             "colorbar": {
              "outlinewidth": 0,
              "ticks": ""
             }
            },
            "type": "scatterpolar"
           }
          ],
          "scatterpolargl": [
           {
            "marker": {
             "colorbar": {
              "outlinewidth": 0,
              "ticks": ""
             }
            },
            "type": "scatterpolargl"
           }
          ],
          "scatterternary": [
           {
            "marker": {
             "colorbar": {
              "outlinewidth": 0,
              "ticks": ""
             }
            },
            "type": "scatterternary"
           }
          ],
          "surface": [
           {
            "colorbar": {
             "outlinewidth": 0,
             "ticks": ""
            },
            "colorscale": [
             [
              0,
              "#0d0887"
             ],
             [
              0.1111111111111111,
              "#46039f"
             ],
             [
              0.2222222222222222,
              "#7201a8"
             ],
             [
              0.3333333333333333,
              "#9c179e"
             ],
             [
              0.4444444444444444,
              "#bd3786"
             ],
             [
              0.5555555555555556,
              "#d8576b"
             ],
             [
              0.6666666666666666,
              "#ed7953"
             ],
             [
              0.7777777777777778,
              "#fb9f3a"
             ],
             [
              0.8888888888888888,
              "#fdca26"
             ],
             [
              1,
              "#f0f921"
             ]
            ],
            "type": "surface"
           }
          ],
          "table": [
           {
            "cells": {
             "fill": {
              "color": "#EBF0F8"
             },
             "line": {
              "color": "white"
             }
            },
            "header": {
             "fill": {
              "color": "#C8D4E3"
             },
             "line": {
              "color": "white"
             }
            },
            "type": "table"
           }
          ]
         },
         "layout": {
          "annotationdefaults": {
           "arrowcolor": "#2a3f5f",
           "arrowhead": 0,
           "arrowwidth": 1
          },
          "coloraxis": {
           "colorbar": {
            "outlinewidth": 0,
            "ticks": ""
           }
          },
          "colorscale": {
           "diverging": [
            [
             0,
             "#8e0152"
            ],
            [
             0.1,
             "#c51b7d"
            ],
            [
             0.2,
             "#de77ae"
            ],
            [
             0.3,
             "#f1b6da"
            ],
            [
             0.4,
             "#fde0ef"
            ],
            [
             0.5,
             "#f7f7f7"
            ],
            [
             0.6,
             "#e6f5d0"
            ],
            [
             0.7,
             "#b8e186"
            ],
            [
             0.8,
             "#7fbc41"
            ],
            [
             0.9,
             "#4d9221"
            ],
            [
             1,
             "#276419"
            ]
           ],
           "sequential": [
            [
             0,
             "#0d0887"
            ],
            [
             0.1111111111111111,
             "#46039f"
            ],
            [
             0.2222222222222222,
             "#7201a8"
            ],
            [
             0.3333333333333333,
             "#9c179e"
            ],
            [
             0.4444444444444444,
             "#bd3786"
            ],
            [
             0.5555555555555556,
             "#d8576b"
            ],
            [
             0.6666666666666666,
             "#ed7953"
            ],
            [
             0.7777777777777778,
             "#fb9f3a"
            ],
            [
             0.8888888888888888,
             "#fdca26"
            ],
            [
             1,
             "#f0f921"
            ]
           ],
           "sequentialminus": [
            [
             0,
             "#0d0887"
            ],
            [
             0.1111111111111111,
             "#46039f"
            ],
            [
             0.2222222222222222,
             "#7201a8"
            ],
            [
             0.3333333333333333,
             "#9c179e"
            ],
            [
             0.4444444444444444,
             "#bd3786"
            ],
            [
             0.5555555555555556,
             "#d8576b"
            ],
            [
             0.6666666666666666,
             "#ed7953"
            ],
            [
             0.7777777777777778,
             "#fb9f3a"
            ],
            [
             0.8888888888888888,
             "#fdca26"
            ],
            [
             1,
             "#f0f921"
            ]
           ]
          },
          "colorway": [
           "#636efa",
           "#EF553B",
           "#00cc96",
           "#ab63fa",
           "#FFA15A",
           "#19d3f3",
           "#FF6692",
           "#B6E880",
           "#FF97FF",
           "#FECB52"
          ],
          "font": {
           "color": "#2a3f5f"
          },
          "geo": {
           "bgcolor": "white",
           "lakecolor": "white",
           "landcolor": "#E5ECF6",
           "showlakes": true,
           "showland": true,
           "subunitcolor": "white"
          },
          "hoverlabel": {
           "align": "left"
          },
          "hovermode": "closest",
          "mapbox": {
           "style": "light"
          },
          "paper_bgcolor": "white",
          "plot_bgcolor": "#E5ECF6",
          "polar": {
           "angularaxis": {
            "gridcolor": "white",
            "linecolor": "white",
            "ticks": ""
           },
           "bgcolor": "#E5ECF6",
           "radialaxis": {
            "gridcolor": "white",
            "linecolor": "white",
            "ticks": ""
           }
          },
          "scene": {
           "xaxis": {
            "backgroundcolor": "#E5ECF6",
            "gridcolor": "white",
            "gridwidth": 2,
            "linecolor": "white",
            "showbackground": true,
            "ticks": "",
            "zerolinecolor": "white"
           },
           "yaxis": {
            "backgroundcolor": "#E5ECF6",
            "gridcolor": "white",
            "gridwidth": 2,
            "linecolor": "white",
            "showbackground": true,
            "ticks": "",
            "zerolinecolor": "white"
           },
           "zaxis": {
            "backgroundcolor": "#E5ECF6",
            "gridcolor": "white",
            "gridwidth": 2,
            "linecolor": "white",
            "showbackground": true,
            "ticks": "",
            "zerolinecolor": "white"
           }
          },
          "shapedefaults": {
           "line": {
            "color": "#2a3f5f"
           }
          },
          "ternary": {
           "aaxis": {
            "gridcolor": "white",
            "linecolor": "white",
            "ticks": ""
           },
           "baxis": {
            "gridcolor": "white",
            "linecolor": "white",
            "ticks": ""
           },
           "bgcolor": "#E5ECF6",
           "caxis": {
            "gridcolor": "white",
            "linecolor": "white",
            "ticks": ""
           }
          },
          "title": {
           "x": 0.05
          },
          "xaxis": {
           "automargin": true,
           "gridcolor": "white",
           "linecolor": "white",
           "ticks": "",
           "title": {
            "standoff": 15
           },
           "zerolinecolor": "white",
           "zerolinewidth": 2
          },
          "yaxis": {
           "automargin": true,
           "gridcolor": "white",
           "linecolor": "white",
           "ticks": "",
           "title": {
            "standoff": 15
           },
           "zerolinecolor": "white",
           "zerolinewidth": 2
          }
         }
        },
        "title": {
         "text": "Average Retail Price US, 2018 (cents/kWh)(Excluding HI)"
        }
       }
      },
      "text/html": [
       "<div>\n",
       "        \n",
       "        \n",
       "            <div id=\"e2fb1301-2d9e-4d99-bb10-69fe0f1e7014\" class=\"plotly-graph-div\" style=\"height:525px; width:100%;\"></div>\n",
       "            <script type=\"text/javascript\">\n",
       "                require([\"plotly\"], function(Plotly) {\n",
       "                    window.PLOTLYENV=window.PLOTLYENV || {};\n",
       "                    \n",
       "                if (document.getElementById(\"e2fb1301-2d9e-4d99-bb10-69fe0f1e7014\")) {\n",
       "                    Plotly.newPlot(\n",
       "                        'e2fb1301-2d9e-4d99-bb10-69fe0f1e7014',\n",
       "                        [{\"autocolorscale\": false, \"colorbar\": {\"title\": {\"text\": \"Average Retail Price (cents/kWh)\"}}, \"colorscale\": [[0.0, \"rgb(255,255,255)\"], [0.25, \"rgb(0, 255, 0)\"], [0.5, \"rgb(255, 254, 25)\"], [0.75, \"rgb(255, 0, 0)\"], [1.0, \"rgb(0, 0, 0)\"]], \"locationmode\": \"USA-states\", \"locations\": [\"AL\", \"AK\", \"AZ\", \"AR\", \"CA\", \"CO\", \"CT\", \"DE\", \"FL\", \"GA\", \"ID\", \"IL\", \"IN\", \"IA\", \"KS\", \"KY\", \"LA\", \"ME\", \"MD\", \"MA\", \"MI\", \"MN\", \"MS\", \"MO\", \"MT\", \"NE\", \"NV\", \"NH\", \"NJ\", \"NM\", \"NY\", \"NC\", \"ND\", \"OH\", \"OK\", \"OR\", \"PA\", \"RI\", \"SC\", \"SD\", \"TN\", \"TX\", \"UT\", \"VT\", \"VA\", \"WA\", \"WV\", \"WI\", \"WY\"], \"marker\": {\"line\": {\"color\": \"rgb(0,0,0)\", \"width\": 1}}, \"text\": [\"Alabama, Net summer capacity (MW): 30118, Net generation (MWh): 145057994, Total retail sales (MWh): 90285545\", \"Alaska, Net summer capacity (MW): 2745, Net generation (MWh): 6247359, Total retail sales (MWh): 5972467\", \"Arizona, Net summer capacity (MW): 28672, Net generation (MWh): 111925144, Total retail sales (MWh): 78346302\", \"Arkansas, Net summer capacity (MW): 14763, Net generation (MWh): 67999352, Total retail sales (MWh): 49602708\", \"California, Net summer capacity (MW): 75926, Net generation (MWh): 195265412, Total retail sales (MWh): 255349610\", \"Colorado, Net summer capacity (MW): 16590, Net generation (MWh): 55386279, Total retail sales (MWh): 56450480\", \"Connecticut, Net summer capacity (MW): 9833, Net generation (MWh): 39453552, Total retail sales (MWh): 28833925\", \"Delaware, Net summer capacity (MW): 3378, Net generation (MWh): 6240644, Total retail sales (MWh): 11773100\", \"Florida, Net summer capacity (MW): 57359, Net generation (MWh): 244252010, Total retail sales (MWh): 238993089\", \"Georgia, Net summer capacity (MW): 36989, Net generation (MWh): 129239355, Total retail sales (MWh): 139866074\", \"Idaho, Net summer capacity (MW): 5210, Net generation (MWh): 18172120, Total retail sales (MWh): 23753508\", \"Illinois, Net summer capacity (MW): 45631, Net generation (MWh): 188003357, Total retail sales (MWh): 142654808\", \"Indiana, Net summer capacity (MW): 26696, Net generation (MWh): 113459711, Total retail sales (MWh): 104217003\", \"Iowa, Net summer capacity (MW): 18842, Net generation (MWh): 63380566, Total retail sales (MWh): 51213960\", \"Kansas, Net summer capacity (MW): 15631, Net generation (MWh): 51710213, Total retail sales (MWh): 42044003\", \"Kentucky, Net summer capacity (MW): 20120, Net generation (MWh): 78804497, Total retail sales (MWh): 76610636\", \"Louisiana, Net summer capacity (MW): 23162, Net generation (MWh): 102128500, Total retail sales (MWh): 94186072\", \"Maine, Net summer capacity (MW): 4864, Net generation (MWh): 11280700, Total retail sales (MWh): 12354819\", \"Maryland, Net summer capacity (MW): 14777, Net generation (MWh): 43809646, Total retail sales (MWh): 62086455\", \"Massachusetts, Net summer capacity (MW): 12875, Net generation (MWh): 27172882, Total retail sales (MWh): 53285029\", \"Michigan, Net summer capacity (MW): 29720, Net generation (MWh): 115837095, Total retail sales (MWh): 104869496\", \"Minnesota, Net summer capacity (MW): 16954, Net generation (MWh): 61517442, Total retail sales (MWh): 68729377\", \"Mississippi, Net summer capacity (MW): 14733, Net generation (MWh): 63473771, Total retail sales (MWh): 50390068\", \"Missouri, Net summer capacity (MW): 21078, Net generation (MWh): 81435776, Total retail sales (MWh): 82058027\", \"Montana, Net summer capacity (MW): 6356, Net generation (MWh): 28195174, Total retail sales (MWh): 14838845\", \"Nebraska, Net summer capacity (MW): 8984, Net generation (MWh): 36966216, Total retail sales (MWh): 30939492\", \"Nevada, Net summer capacity (MW): 11494, Net generation (MWh): 39640241, Total retail sales (MWh): 37780263\", \"New Hampshire, Net summer capacity (MW): 4469, Net generation (MWh): 17087156, Total retail sales (MWh): 11046284\", \"New Jersey, Net summer capacity (MW): 17403, Net generation (MWh): 75033600, Total retail sales (MWh): 76016762\", \"New Mexico, Net summer capacity (MW): 8431, Net generation (MWh): 32673682, Total retail sales (MWh): 24048611\", \"New York, Net summer capacity (MW): 41124, Net generation (MWh): 132520498, Total retail sales (MWh): 149929851\", \"North Carolina, Net summer capacity (MW): 34178, Net generation (MWh): 134249497, Total retail sales (MWh): 138293957\", \"North Dakota, Net summer capacity (MW): 8381, Net generation (MWh): 42615321, Total retail sales (MWh): 20669506\", \"Ohio, Net summer capacity (MW): 29142, Net generation (MWh): 126184610, Total retail sales (MWh): 152915167\", \"Oklahoma, Net summer capacity (MW): 27401, Net generation (MWh): 86223721, Total retail sales (MWh): 64575316\", \"Oregon, Net summer capacity (MW): 16590, Net generation (MWh): 64113560, Total retail sales (MWh): 49347814\", \"Pennsylvania, Net summer capacity (MW): 48558, Net generation (MWh): 215385830, Total retail sales (MWh): 148976731\", \"Rhode Island, Net summer capacity (MW): 1958, Net generation (MWh): 8375257, Total retail sales (MWh): 7583339\", \"South Carolina, Net summer capacity (MW): 23662, Net generation (MWh): 99364088, Total retail sales (MWh): 81787241\", \"South Dakota, Net summer capacity (MW): 4169, Net generation (MWh): 12616396, Total retail sales (MWh): 12865645\", \"Tennessee, Net summer capacity (MW): 21349, Net generation (MWh): 81554934, Total retail sales (MWh): 102911183\", \"Texas, Net summer capacity (MW): 122159, Net generation (MWh): 477352424, Total retail sales (MWh): 424528419\", \"Utah, Net summer capacity (MW): 9003, Net generation (MWh): 39375424, Total retail sales (MWh): 31242408\", \"Vermont, Net summer capacity (MW): 765, Net generation (MWh): 2178915, Total retail sales (MWh): 5530948\", \"Virginia, Net summer capacity (MW): 29635, Net generation (MWh): 95506976, Total retail sales (MWh): 118186645\", \"Washington, Net summer capacity (MW): 30983, Net generation (MWh): 116756729, Total retail sales (MWh): 90005791\", \"West Virginia, Net summer capacity (MW): 14851, Net generation (MWh): 67249025, Total retail sales (MWh): 33646813\", \"Wisconsin, Net summer capacity (MW): 15516, Net generation (MWh): 65936767, Total retail sales (MWh): 70965457\", \"Wyoming, Net summer capacity (MW): 8673, Net generation (MWh): 46112136, Total retail sales (MWh): 16864678\"], \"type\": \"choropleth\", \"z\": [9.63, 19.36, 10.85, 7.78, 16.58, 10.02, 18.41, 10.55, 10.31, 9.62, 8.17, 9.6, 9.75, 8.92, 10.72, 8.52, 7.71, 13.44, 11.57, 18.5, 11.4, 10.37, 9.24, 9.93, 8.84, 9.02, 8.67, 17.01, 13.23, 9.35, 14.83, 9.25, 8.91, 9.94, 8.09, 8.85, 10.1, 18.1, 9.66, 9.97, 9.58, 8.48, 8.21, 15.13, 9.48, 8.0, 8.72, 10.58, 8.09]}],\n",
       "                        {\"geo\": {\"lakecolor\": \"rgb(85,173,240)\", \"scope\": \"usa\", \"showlakes\": true}, \"template\": {\"data\": {\"bar\": [{\"error_x\": {\"color\": \"#2a3f5f\"}, \"error_y\": {\"color\": \"#2a3f5f\"}, \"marker\": {\"line\": {\"color\": \"#E5ECF6\", \"width\": 0.5}}, \"type\": \"bar\"}], \"barpolar\": [{\"marker\": {\"line\": {\"color\": \"#E5ECF6\", \"width\": 0.5}}, \"type\": \"barpolar\"}], \"carpet\": [{\"aaxis\": {\"endlinecolor\": \"#2a3f5f\", \"gridcolor\": \"white\", \"linecolor\": \"white\", \"minorgridcolor\": \"white\", \"startlinecolor\": \"#2a3f5f\"}, \"baxis\": {\"endlinecolor\": \"#2a3f5f\", \"gridcolor\": \"white\", \"linecolor\": \"white\", \"minorgridcolor\": \"white\", \"startlinecolor\": \"#2a3f5f\"}, \"type\": \"carpet\"}], \"choropleth\": [{\"colorbar\": {\"outlinewidth\": 0, \"ticks\": \"\"}, \"type\": \"choropleth\"}], \"contour\": [{\"colorbar\": {\"outlinewidth\": 0, \"ticks\": \"\"}, \"colorscale\": [[0.0, \"#0d0887\"], [0.1111111111111111, \"#46039f\"], [0.2222222222222222, \"#7201a8\"], [0.3333333333333333, \"#9c179e\"], [0.4444444444444444, \"#bd3786\"], [0.5555555555555556, \"#d8576b\"], [0.6666666666666666, \"#ed7953\"], [0.7777777777777778, \"#fb9f3a\"], [0.8888888888888888, \"#fdca26\"], [1.0, \"#f0f921\"]], \"type\": \"contour\"}], \"contourcarpet\": [{\"colorbar\": {\"outlinewidth\": 0, \"ticks\": \"\"}, \"type\": \"contourcarpet\"}], \"heatmap\": [{\"colorbar\": {\"outlinewidth\": 0, \"ticks\": \"\"}, \"colorscale\": [[0.0, \"#0d0887\"], [0.1111111111111111, \"#46039f\"], [0.2222222222222222, \"#7201a8\"], [0.3333333333333333, \"#9c179e\"], [0.4444444444444444, \"#bd3786\"], [0.5555555555555556, \"#d8576b\"], [0.6666666666666666, \"#ed7953\"], [0.7777777777777778, \"#fb9f3a\"], [0.8888888888888888, \"#fdca26\"], [1.0, \"#f0f921\"]], \"type\": \"heatmap\"}], \"heatmapgl\": [{\"colorbar\": {\"outlinewidth\": 0, \"ticks\": \"\"}, \"colorscale\": [[0.0, \"#0d0887\"], [0.1111111111111111, \"#46039f\"], [0.2222222222222222, \"#7201a8\"], [0.3333333333333333, \"#9c179e\"], [0.4444444444444444, \"#bd3786\"], [0.5555555555555556, \"#d8576b\"], [0.6666666666666666, \"#ed7953\"], [0.7777777777777778, \"#fb9f3a\"], [0.8888888888888888, \"#fdca26\"], [1.0, \"#f0f921\"]], \"type\": \"heatmapgl\"}], \"histogram\": [{\"marker\": {\"colorbar\": {\"outlinewidth\": 0, \"ticks\": \"\"}}, \"type\": \"histogram\"}], \"histogram2d\": [{\"colorbar\": {\"outlinewidth\": 0, \"ticks\": \"\"}, \"colorscale\": [[0.0, \"#0d0887\"], [0.1111111111111111, \"#46039f\"], [0.2222222222222222, \"#7201a8\"], [0.3333333333333333, \"#9c179e\"], [0.4444444444444444, \"#bd3786\"], [0.5555555555555556, \"#d8576b\"], [0.6666666666666666, \"#ed7953\"], [0.7777777777777778, \"#fb9f3a\"], [0.8888888888888888, \"#fdca26\"], [1.0, \"#f0f921\"]], \"type\": \"histogram2d\"}], \"histogram2dcontour\": [{\"colorbar\": {\"outlinewidth\": 0, \"ticks\": \"\"}, \"colorscale\": [[0.0, \"#0d0887\"], [0.1111111111111111, \"#46039f\"], [0.2222222222222222, \"#7201a8\"], [0.3333333333333333, \"#9c179e\"], [0.4444444444444444, \"#bd3786\"], [0.5555555555555556, \"#d8576b\"], [0.6666666666666666, \"#ed7953\"], [0.7777777777777778, \"#fb9f3a\"], [0.8888888888888888, \"#fdca26\"], [1.0, \"#f0f921\"]], \"type\": \"histogram2dcontour\"}], \"mesh3d\": [{\"colorbar\": {\"outlinewidth\": 0, \"ticks\": \"\"}, \"type\": \"mesh3d\"}], \"parcoords\": [{\"line\": {\"colorbar\": {\"outlinewidth\": 0, \"ticks\": \"\"}}, \"type\": \"parcoords\"}], \"pie\": [{\"automargin\": true, \"type\": \"pie\"}], \"scatter\": [{\"marker\": {\"colorbar\": {\"outlinewidth\": 0, \"ticks\": \"\"}}, \"type\": \"scatter\"}], \"scatter3d\": [{\"line\": {\"colorbar\": {\"outlinewidth\": 0, \"ticks\": \"\"}}, \"marker\": {\"colorbar\": {\"outlinewidth\": 0, \"ticks\": \"\"}}, \"type\": \"scatter3d\"}], \"scattercarpet\": [{\"marker\": {\"colorbar\": {\"outlinewidth\": 0, \"ticks\": \"\"}}, \"type\": \"scattercarpet\"}], \"scattergeo\": [{\"marker\": {\"colorbar\": {\"outlinewidth\": 0, \"ticks\": \"\"}}, \"type\": \"scattergeo\"}], \"scattergl\": [{\"marker\": {\"colorbar\": {\"outlinewidth\": 0, \"ticks\": \"\"}}, \"type\": \"scattergl\"}], \"scattermapbox\": [{\"marker\": {\"colorbar\": {\"outlinewidth\": 0, \"ticks\": \"\"}}, \"type\": \"scattermapbox\"}], \"scatterpolar\": [{\"marker\": {\"colorbar\": {\"outlinewidth\": 0, \"ticks\": \"\"}}, \"type\": \"scatterpolar\"}], \"scatterpolargl\": [{\"marker\": {\"colorbar\": {\"outlinewidth\": 0, \"ticks\": \"\"}}, \"type\": \"scatterpolargl\"}], \"scatterternary\": [{\"marker\": {\"colorbar\": {\"outlinewidth\": 0, \"ticks\": \"\"}}, \"type\": \"scatterternary\"}], \"surface\": [{\"colorbar\": {\"outlinewidth\": 0, \"ticks\": \"\"}, \"colorscale\": [[0.0, \"#0d0887\"], [0.1111111111111111, \"#46039f\"], [0.2222222222222222, \"#7201a8\"], [0.3333333333333333, \"#9c179e\"], [0.4444444444444444, \"#bd3786\"], [0.5555555555555556, \"#d8576b\"], [0.6666666666666666, \"#ed7953\"], [0.7777777777777778, \"#fb9f3a\"], [0.8888888888888888, \"#fdca26\"], [1.0, \"#f0f921\"]], \"type\": \"surface\"}], \"table\": [{\"cells\": {\"fill\": {\"color\": \"#EBF0F8\"}, \"line\": {\"color\": \"white\"}}, \"header\": {\"fill\": {\"color\": \"#C8D4E3\"}, \"line\": {\"color\": \"white\"}}, \"type\": \"table\"}]}, \"layout\": {\"annotationdefaults\": {\"arrowcolor\": \"#2a3f5f\", \"arrowhead\": 0, \"arrowwidth\": 1}, \"coloraxis\": {\"colorbar\": {\"outlinewidth\": 0, \"ticks\": \"\"}}, \"colorscale\": {\"diverging\": [[0, \"#8e0152\"], [0.1, \"#c51b7d\"], [0.2, \"#de77ae\"], [0.3, \"#f1b6da\"], [0.4, \"#fde0ef\"], [0.5, \"#f7f7f7\"], [0.6, \"#e6f5d0\"], [0.7, \"#b8e186\"], [0.8, \"#7fbc41\"], [0.9, \"#4d9221\"], [1, \"#276419\"]], \"sequential\": [[0.0, \"#0d0887\"], [0.1111111111111111, \"#46039f\"], [0.2222222222222222, \"#7201a8\"], [0.3333333333333333, \"#9c179e\"], [0.4444444444444444, \"#bd3786\"], [0.5555555555555556, \"#d8576b\"], [0.6666666666666666, \"#ed7953\"], [0.7777777777777778, \"#fb9f3a\"], [0.8888888888888888, \"#fdca26\"], [1.0, \"#f0f921\"]], \"sequentialminus\": [[0.0, \"#0d0887\"], [0.1111111111111111, \"#46039f\"], [0.2222222222222222, \"#7201a8\"], [0.3333333333333333, \"#9c179e\"], [0.4444444444444444, \"#bd3786\"], [0.5555555555555556, \"#d8576b\"], [0.6666666666666666, \"#ed7953\"], [0.7777777777777778, \"#fb9f3a\"], [0.8888888888888888, \"#fdca26\"], [1.0, \"#f0f921\"]]}, \"colorway\": [\"#636efa\", \"#EF553B\", \"#00cc96\", \"#ab63fa\", \"#FFA15A\", \"#19d3f3\", \"#FF6692\", \"#B6E880\", \"#FF97FF\", \"#FECB52\"], \"font\": {\"color\": \"#2a3f5f\"}, \"geo\": {\"bgcolor\": \"white\", \"lakecolor\": \"white\", \"landcolor\": \"#E5ECF6\", \"showlakes\": true, \"showland\": true, \"subunitcolor\": \"white\"}, \"hoverlabel\": {\"align\": \"left\"}, \"hovermode\": \"closest\", \"mapbox\": {\"style\": \"light\"}, \"paper_bgcolor\": \"white\", \"plot_bgcolor\": \"#E5ECF6\", \"polar\": {\"angularaxis\": {\"gridcolor\": \"white\", \"linecolor\": \"white\", \"ticks\": \"\"}, \"bgcolor\": \"#E5ECF6\", \"radialaxis\": {\"gridcolor\": \"white\", \"linecolor\": \"white\", \"ticks\": \"\"}}, \"scene\": {\"xaxis\": {\"backgroundcolor\": \"#E5ECF6\", \"gridcolor\": \"white\", \"gridwidth\": 2, \"linecolor\": \"white\", \"showbackground\": true, \"ticks\": \"\", \"zerolinecolor\": \"white\"}, \"yaxis\": {\"backgroundcolor\": \"#E5ECF6\", \"gridcolor\": \"white\", \"gridwidth\": 2, \"linecolor\": \"white\", \"showbackground\": true, \"ticks\": \"\", \"zerolinecolor\": \"white\"}, \"zaxis\": {\"backgroundcolor\": \"#E5ECF6\", \"gridcolor\": \"white\", \"gridwidth\": 2, \"linecolor\": \"white\", \"showbackground\": true, \"ticks\": \"\", \"zerolinecolor\": \"white\"}}, \"shapedefaults\": {\"line\": {\"color\": \"#2a3f5f\"}}, \"ternary\": {\"aaxis\": {\"gridcolor\": \"white\", \"linecolor\": \"white\", \"ticks\": \"\"}, \"baxis\": {\"gridcolor\": \"white\", \"linecolor\": \"white\", \"ticks\": \"\"}, \"bgcolor\": \"#E5ECF6\", \"caxis\": {\"gridcolor\": \"white\", \"linecolor\": \"white\", \"ticks\": \"\"}}, \"title\": {\"x\": 0.05}, \"xaxis\": {\"automargin\": true, \"gridcolor\": \"white\", \"linecolor\": \"white\", \"ticks\": \"\", \"title\": {\"standoff\": 15}, \"zerolinecolor\": \"white\", \"zerolinewidth\": 2}, \"yaxis\": {\"automargin\": true, \"gridcolor\": \"white\", \"linecolor\": \"white\", \"ticks\": \"\", \"title\": {\"standoff\": 15}, \"zerolinecolor\": \"white\", \"zerolinewidth\": 2}}}, \"title\": {\"text\": \"Average Retail Price US, 2018 (cents/kWh)(Excluding HI)\"}},\n",
       "                        {\"responsive\": true}\n",
       "                    ).then(function(){\n",
       "                            \n",
       "var gd = document.getElementById('e2fb1301-2d9e-4d99-bb10-69fe0f1e7014');\n",
       "var x = new MutationObserver(function (mutations, observer) {{\n",
       "        var display = window.getComputedStyle(gd).display;\n",
       "        if (!display || display === 'none') {{\n",
       "            console.log([gd, 'removed!']);\n",
       "            Plotly.purge(gd);\n",
       "            observer.disconnect();\n",
       "        }}\n",
       "}});\n",
       "\n",
       "// Listen for the removal of the full notebook cells\n",
       "var notebookContainer = gd.closest('#notebook-container');\n",
       "if (notebookContainer) {{\n",
       "    x.observe(notebookContainer, {childList: true});\n",
       "}}\n",
       "\n",
       "// Listen for the clearing of the current output cell\n",
       "var outputEl = gd.closest('.output');\n",
       "if (outputEl) {{\n",
       "    x.observe(outputEl, {childList: true});\n",
       "}}\n",
       "\n",
       "                        })\n",
       "                };\n",
       "                });\n",
       "            </script>\n",
       "        </div>"
      ]
     },
     "metadata": {},
     "output_type": "display_data"
    }
   ],
   "source": [
    "choromap = go.Figure(data = [data],layout = layout)\n",
    "iplot(choromap)"
   ]
  },
  {
   "cell_type": "code",
   "execution_count": null,
   "metadata": {},
   "outputs": [],
   "source": [
    "#Choropleth map of Average Retail Price the US States (excluding HI), 2018. The EIA online map did not show the diversity of average prices well, so I remade it with a choropleth map using more extreme colors ranges. \n",
    "\n",
    "#HTML EIA: https://www.eia.gov/electricity/state/\n",
    "\n",
    "#Iplot interactive map found at:\n",
    "#http://localhost:8826/notebooks/Downloads/Py-DS-ML-Bootcamp-master/Refactored_Py_DS_ML_Bootcamp-master/09-Geographical-Plotting/.ipynb# "
   ]
  }
 ],
 "metadata": {
  "kernelspec": {
   "display_name": "Python 3",
   "language": "python",
   "name": "python3"
  },
  "language_info": {
   "codemirror_mode": {
    "name": "ipython",
    "version": 3
   },
   "file_extension": ".py",
   "mimetype": "text/x-python",
   "name": "python",
   "nbconvert_exporter": "python",
   "pygments_lexer": "ipython3",
   "version": "3.7.4"
  }
 },
 "nbformat": 4,
 "nbformat_minor": 2
}
