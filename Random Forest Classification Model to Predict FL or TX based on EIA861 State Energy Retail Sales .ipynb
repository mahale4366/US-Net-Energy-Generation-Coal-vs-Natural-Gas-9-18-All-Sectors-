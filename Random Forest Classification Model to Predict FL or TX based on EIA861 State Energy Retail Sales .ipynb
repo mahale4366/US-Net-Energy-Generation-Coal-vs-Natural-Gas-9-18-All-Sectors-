{
 "cells": [
  {
   "cell_type": "code",
   "execution_count": 1,
   "metadata": {},
   "outputs": [
    {
     "data": {
      "text/html": [
       "        <script type=\"text/javascript\">\n",
       "        window.PlotlyConfig = {MathJaxConfig: 'local'};\n",
       "        if (window.MathJax) {MathJax.Hub.Config({SVG: {font: \"STIX-Web\"}});}\n",
       "        if (typeof require !== 'undefined') {\n",
       "        require.undef(\"plotly\");\n",
       "        requirejs.config({\n",
       "            paths: {\n",
       "                'plotly': ['https://cdn.plot.ly/plotly-latest.min']\n",
       "            }\n",
       "        });\n",
       "        require(['plotly'], function(Plotly) {\n",
       "            window._Plotly = Plotly;\n",
       "        });\n",
       "        }\n",
       "        </script>\n",
       "        "
      ]
     },
     "metadata": {},
     "output_type": "display_data"
    }
   ],
   "source": [
    "import pandas as pd\n",
    "import matplotlib.pyplot as plt\n",
    "%matplotlib inline\n",
    "import seaborn as sns\n",
    "import plotly \n",
    "import cufflinks as cf\n",
    "cf.go_offline()\n",
    "import sklearn \n",
    "import numpy as np"
   ]
  },
  {
   "cell_type": "code",
   "execution_count": 2,
   "metadata": {},
   "outputs": [],
   "source": [
    "df = pd.read_excel(r'C:\\Users\\matth\\Documents\\Excel EIA Energy\\New folder (2)\\Sales 2018 EIA.xlsx', sheet_name='States')\n",
    "df2 = pd.read_excel(r'C:\\Users\\matth\\Documents\\Excel EIA Energy\\New folder (2)\\Sales 2017 EIA.xlsx', sheet_name='States')\n",
    "df3 = pd.read_excel(r'C:\\Users\\matth\\Documents\\Excel EIA Energy\\New folder (2)\\Sales 2016 EIA.xlsx', sheet_name='States')"
   ]
  },
  {
   "cell_type": "code",
   "execution_count": 3,
   "metadata": {},
   "outputs": [],
   "source": [
    "df.rename(columns={'Utility Characteristics':'Data Year', 'Unnamed: 1':'Utility Number', 'Unnamed: 2':'Utility_Name', 'Unnamed: 3':'Part',\n",
    "       'Unnamed: 4':'Service Type', 'Unnamed: 5':'Data Type', 'Unnamed: 6':'State', 'Unnamed: 7':'Ownership', 'Unnamed: 8':'BA Code',\n",
    "       'RESIDENTIAL':'Thousand Dollars', 'Unnamed: 10':'Megawatthours', 'Unnamed: 11':'Count', 'COMMERCIAL':'Thousand Dollars',\n",
    "       'Unnamed: 13':'Megawatthours', 'Unnamed: 14':'Count', 'INDUSTRIAL':'Thousand Dollars', 'Unnamed: 16':'Megawatthours',\n",
    "       'Unnamed: 17':'Count', 'TRANSPORTATION':'Thousand Dollars', 'Unnamed: 19':'Megawatthours', 'Unnamed: 20':'Count', 'TOTAL':'Net Thousand Dollars',\n",
    "       'Unnamed: 22':'Net Megawatthours', 'Unnamed: 23':'Net Count'},inplace=True)\n",
    "df2.rename(columns={'Utility Characteristics':'Data Year', 'Unnamed: 1':'Utility Number', 'Unnamed: 2':'Utility_Name', 'Unnamed: 3':'Part',\n",
    "       'Unnamed: 4':'Service Type', 'Unnamed: 5':'Data Type', 'Unnamed: 6':'State', 'Unnamed: 7':'Ownership', 'Unnamed: 8':'BA Code',\n",
    "       'RESIDENTIAL':'Thousand Dollars', 'Unnamed: 10':'Megawatthours', 'Unnamed: 11':'Count', 'COMMERCIAL':'Thousand Dollars',\n",
    "       'Unnamed: 13':'Megawatthours', 'Unnamed: 14':'Count', 'INDUSTRIAL':'Thousand Dollars', 'Unnamed: 16':'Megawatthours',\n",
    "       'Unnamed: 17':'Count', 'TRANSPORTATION':'Thousand Dollars', 'Unnamed: 19':'Megawatthours', 'Unnamed: 20':'Count', 'TOTAL':'Net Thousand Dollars',\n",
    "       'Unnamed: 22':'Net Megawatthours', 'Unnamed: 23':'Net Count'},inplace=True)\n",
    "df3.rename(columns={'Utility Characteristics':'Data Year', 'Unnamed: 1':'Utility Number', 'Unnamed: 2':'Utility_Name', 'Unnamed: 3':'Part',\n",
    "       'Unnamed: 4':'Service Type', 'Unnamed: 5':'Data Type', 'Unnamed: 6':'State', 'Unnamed: 7':'Ownership', 'Unnamed: 8':'BA Code',\n",
    "       'RESIDENTIAL':'Thousand Dollars', 'Unnamed: 10':'Megawatthours', 'Unnamed: 11':'Count', 'COMMERCIAL':'Thousand Dollars',\n",
    "       'Unnamed: 13':'Megawatthours', 'Unnamed: 14':'Count', 'INDUSTRIAL':'Thousand Dollars', 'Unnamed: 16':'Megawatthours',\n",
    "       'Unnamed: 17':'Count', 'TRANSPORTATION':'Thousand Dollars', 'Unnamed: 19':'Megawatthours', 'Unnamed: 20':'Count', 'TOTAL':'Net Thousand Dollars',\n",
    "       'Unnamed: 22':'Net Megawatthours', 'Unnamed: 23':'Net Count'},inplace=True)"
   ]
  },
  {
   "cell_type": "code",
   "execution_count": 4,
   "metadata": {},
   "outputs": [],
   "source": [
    "df = pd.concat([df,df2,df3],axis=0)"
   ]
  },
  {
   "cell_type": "code",
   "execution_count": 5,
   "metadata": {},
   "outputs": [],
   "source": [
    "df.drop([0],axis=0,inplace=True)\n",
    "df.drop([1],axis=0,inplace=True)\n",
    "df.set_index(['Data Year'],inplace=True)"
   ]
  },
  {
   "cell_type": "code",
   "execution_count": 6,
   "metadata": {},
   "outputs": [],
   "source": [
    "df = df[df['Utility Number']!= 99999]\n",
    "df = df[df['Utility Number']!= 88888]\n",
    "dftx = df[df['State'] == 'TX']\n",
    "dffl = df[df['State'] == 'FL']"
   ]
  },
  {
   "cell_type": "code",
   "execution_count": 7,
   "metadata": {},
   "outputs": [],
   "source": [
    "dftx = dftx[['Net Count','Net Megawatthours','Net Thousand Dollars','State','Ownership']]\n",
    "dffl = dffl[['Net Count','Net Megawatthours','Net Thousand Dollars','State','Ownership']]"
   ]
  },
  {
   "cell_type": "code",
   "execution_count": 8,
   "metadata": {},
   "outputs": [],
   "source": [
    "dffltx = pd.concat([dffl,dftx],axis=0)"
   ]
  },
  {
   "cell_type": "code",
   "execution_count": 9,
   "metadata": {},
   "outputs": [],
   "source": [
    "def binstate(cols):\n",
    "    State = cols[0]\n",
    "    if State == 'FL':\n",
    "        return 0\n",
    "    else:\n",
    "        return 1\n",
    "def fxown(cols):\n",
    "    Ownership = cols[0]\n",
    "    if Ownership == 'Municipal':\n",
    "        return 0\n",
    "    elif Ownership == 'Cooperative':\n",
    "        return 1\n",
    "    elif Ownership == 'Retail Power Marketer':\n",
    "        return 2\n",
    "    elif Ownership == 'Investor Owned':\n",
    "        return 3 \n",
    "    else:\n",
    "        return 4"
   ]
  },
  {
   "cell_type": "code",
   "execution_count": 10,
   "metadata": {},
   "outputs": [],
   "source": [
    "dffltx['State'] = dffltx[['State']].apply(binstate,axis=1)\n",
    "dffltx['Ownership'] = dffltx[['Ownership']].apply(fxown,axis=1)\n",
    "dffltx.replace(to_replace='.',value=0,inplace=True)\n",
    "dffltx161718 = dffltx"
   ]
  },
  {
   "cell_type": "code",
   "execution_count": 11,
   "metadata": {},
   "outputs": [
    {
     "data": {
      "text/html": [
       "<div>\n",
       "<style scoped>\n",
       "    .dataframe tbody tr th:only-of-type {\n",
       "        vertical-align: middle;\n",
       "    }\n",
       "\n",
       "    .dataframe tbody tr th {\n",
       "        vertical-align: top;\n",
       "    }\n",
       "\n",
       "    .dataframe thead th {\n",
       "        text-align: right;\n",
       "    }\n",
       "</style>\n",
       "<table border=\"1\" class=\"dataframe\">\n",
       "  <thead>\n",
       "    <tr style=\"text-align: right;\">\n",
       "      <th></th>\n",
       "      <th>Net Count</th>\n",
       "      <th>Net Megawatthours</th>\n",
       "      <th>Net Thousand Dollars</th>\n",
       "      <th>State</th>\n",
       "      <th>Ownership</th>\n",
       "    </tr>\n",
       "    <tr>\n",
       "      <th>Data Year</th>\n",
       "      <th></th>\n",
       "      <th></th>\n",
       "      <th></th>\n",
       "      <th></th>\n",
       "      <th></th>\n",
       "    </tr>\n",
       "  </thead>\n",
       "  <tbody>\n",
       "    <tr>\n",
       "      <td>2018</td>\n",
       "      <td>4584</td>\n",
       "      <td>131006</td>\n",
       "      <td>14261.0</td>\n",
       "      <td>0</td>\n",
       "      <td>0</td>\n",
       "    </tr>\n",
       "    <tr>\n",
       "      <td>2018</td>\n",
       "      <td>12391</td>\n",
       "      <td>274223</td>\n",
       "      <td>29971.0</td>\n",
       "      <td>0</td>\n",
       "      <td>0</td>\n",
       "    </tr>\n",
       "    <tr>\n",
       "      <td>2018</td>\n",
       "      <td>33750</td>\n",
       "      <td>500976</td>\n",
       "      <td>63724.9</td>\n",
       "      <td>0</td>\n",
       "      <td>1</td>\n",
       "    </tr>\n",
       "    <tr>\n",
       "      <td>2018</td>\n",
       "      <td>51790</td>\n",
       "      <td>895036</td>\n",
       "      <td>101041.5</td>\n",
       "      <td>0</td>\n",
       "      <td>1</td>\n",
       "    </tr>\n",
       "    <tr>\n",
       "      <td>2018</td>\n",
       "      <td>175642</td>\n",
       "      <td>3316392</td>\n",
       "      <td>363296.8</td>\n",
       "      <td>0</td>\n",
       "      <td>1</td>\n",
       "    </tr>\n",
       "    <tr>\n",
       "      <td>...</td>\n",
       "      <td>...</td>\n",
       "      <td>...</td>\n",
       "      <td>...</td>\n",
       "      <td>...</td>\n",
       "      <td>...</td>\n",
       "    </tr>\n",
       "    <tr>\n",
       "      <td>2016</td>\n",
       "      <td>2207</td>\n",
       "      <td>87071</td>\n",
       "      <td>7500.0</td>\n",
       "      <td>1</td>\n",
       "      <td>2</td>\n",
       "    </tr>\n",
       "    <tr>\n",
       "      <td>2016</td>\n",
       "      <td>5080</td>\n",
       "      <td>95673</td>\n",
       "      <td>6178.2</td>\n",
       "      <td>1</td>\n",
       "      <td>2</td>\n",
       "    </tr>\n",
       "    <tr>\n",
       "      <td>2016</td>\n",
       "      <td>1</td>\n",
       "      <td>9</td>\n",
       "      <td>1.0</td>\n",
       "      <td>1</td>\n",
       "      <td>4</td>\n",
       "    </tr>\n",
       "    <tr>\n",
       "      <td>2016</td>\n",
       "      <td>24</td>\n",
       "      <td>254</td>\n",
       "      <td>36.3</td>\n",
       "      <td>1</td>\n",
       "      <td>4</td>\n",
       "    </tr>\n",
       "    <tr>\n",
       "      <td>2016</td>\n",
       "      <td>47</td>\n",
       "      <td>12993429</td>\n",
       "      <td>471824.0</td>\n",
       "      <td>1</td>\n",
       "      <td>2</td>\n",
       "    </tr>\n",
       "  </tbody>\n",
       "</table>\n",
       "<p>715 rows × 5 columns</p>\n",
       "</div>"
      ],
      "text/plain": [
       "           Net Count  Net Megawatthours  Net Thousand Dollars  State  \\\n",
       "Data Year                                                              \n",
       "2018            4584             131006               14261.0      0   \n",
       "2018           12391             274223               29971.0      0   \n",
       "2018           33750             500976               63724.9      0   \n",
       "2018           51790             895036              101041.5      0   \n",
       "2018          175642            3316392              363296.8      0   \n",
       "...              ...                ...                   ...    ...   \n",
       "2016            2207              87071                7500.0      1   \n",
       "2016            5080              95673                6178.2      1   \n",
       "2016               1                  9                   1.0      1   \n",
       "2016              24                254                  36.3      1   \n",
       "2016              47           12993429              471824.0      1   \n",
       "\n",
       "           Ownership  \n",
       "Data Year             \n",
       "2018               0  \n",
       "2018               0  \n",
       "2018               1  \n",
       "2018               1  \n",
       "2018               1  \n",
       "...              ...  \n",
       "2016               2  \n",
       "2016               2  \n",
       "2016               4  \n",
       "2016               4  \n",
       "2016               2  \n",
       "\n",
       "[715 rows x 5 columns]"
      ]
     },
     "execution_count": 11,
     "metadata": {},
     "output_type": "execute_result"
    }
   ],
   "source": [
    "dffltx161718 = dffltx161718[(dffltx161718['Net Count'] <3000000)]\n",
    "dffltx161718.head(-10)"
   ]
  },
  {
   "cell_type": "code",
   "execution_count": 12,
   "metadata": {},
   "outputs": [
    {
     "data": {
      "text/plain": [
       "<matplotlib.axes._subplots.AxesSubplot at 0x17691712188>"
      ]
     },
     "execution_count": 12,
     "metadata": {},
     "output_type": "execute_result"
    },
    {
     "data": {
      "image/png": "[encoded data removed]",
      "text/plain": [
       "<Figure size 432x288 with 1 Axes>"
      ]
     },
     "metadata": {
      "needs_background": "light"
     },
     "output_type": "display_data"
    }
   ],
   "source": [
    "sns.scatterplot(x='Net Count', y='Net Thousand Dollars', hue='State', data=dffltx161718)"
   ]
  },
  {
   "cell_type": "code",
   "execution_count": 13,
   "metadata": {},
   "outputs": [
    {
     "data": {
      "text/html": [
       "<div>\n",
       "<style scoped>\n",
       "    .dataframe tbody tr th:only-of-type {\n",
       "        vertical-align: middle;\n",
       "    }\n",
       "\n",
       "    .dataframe tbody tr th {\n",
       "        vertical-align: top;\n",
       "    }\n",
       "\n",
       "    .dataframe thead th {\n",
       "        text-align: right;\n",
       "    }\n",
       "</style>\n",
       "<table border=\"1\" class=\"dataframe\">\n",
       "  <thead>\n",
       "    <tr style=\"text-align: right;\">\n",
       "      <th></th>\n",
       "      <th>Net Count</th>\n",
       "      <th>Net Megawatthours</th>\n",
       "      <th>Net Thousand Dollars</th>\n",
       "      <th>State</th>\n",
       "      <th>Ownership</th>\n",
       "    </tr>\n",
       "  </thead>\n",
       "  <tbody>\n",
       "    <tr>\n",
       "      <td>count</td>\n",
       "      <td>7.250000e+02</td>\n",
       "      <td>7.250000e+02</td>\n",
       "      <td>7.250000e+02</td>\n",
       "      <td>725.000000</td>\n",
       "      <td>725.000000</td>\n",
       "    </tr>\n",
       "    <tr>\n",
       "      <td>mean</td>\n",
       "      <td>7.433735e+04</td>\n",
       "      <td>2.135661e+06</td>\n",
       "      <td>1.946170e+05</td>\n",
       "      <td>0.780690</td>\n",
       "      <td>1.423448</td>\n",
       "    </tr>\n",
       "    <tr>\n",
       "      <td>std</td>\n",
       "      <td>2.066914e+05</td>\n",
       "      <td>5.440451e+06</td>\n",
       "      <td>5.222641e+05</td>\n",
       "      <td>0.414065</td>\n",
       "      <td>1.049205</td>\n",
       "    </tr>\n",
       "    <tr>\n",
       "      <td>min</td>\n",
       "      <td>0.000000e+00</td>\n",
       "      <td>0.000000e+00</td>\n",
       "      <td>0.000000e+00</td>\n",
       "      <td>0.000000</td>\n",
       "      <td>0.000000</td>\n",
       "    </tr>\n",
       "    <tr>\n",
       "      <td>25%</td>\n",
       "      <td>4.045000e+03</td>\n",
       "      <td>1.270490e+05</td>\n",
       "      <td>1.139470e+04</td>\n",
       "      <td>1.000000</td>\n",
       "      <td>1.000000</td>\n",
       "    </tr>\n",
       "    <tr>\n",
       "      <td>50%</td>\n",
       "      <td>1.589900e+04</td>\n",
       "      <td>4.397470e+05</td>\n",
       "      <td>4.131680e+04</td>\n",
       "      <td>1.000000</td>\n",
       "      <td>1.000000</td>\n",
       "    </tr>\n",
       "    <tr>\n",
       "      <td>75%</td>\n",
       "      <td>4.403400e+04</td>\n",
       "      <td>1.273160e+06</td>\n",
       "      <td>1.152933e+05</td>\n",
       "      <td>1.000000</td>\n",
       "      <td>2.000000</td>\n",
       "    </tr>\n",
       "    <tr>\n",
       "      <td>max</td>\n",
       "      <td>1.801551e+06</td>\n",
       "      <td>4.380500e+07</td>\n",
       "      <td>4.486176e+06</td>\n",
       "      <td>1.000000</td>\n",
       "      <td>4.000000</td>\n",
       "    </tr>\n",
       "  </tbody>\n",
       "</table>\n",
       "</div>"
      ],
      "text/plain": [
       "          Net Count  Net Megawatthours  Net Thousand Dollars       State  \\\n",
       "count  7.250000e+02       7.250000e+02          7.250000e+02  725.000000   \n",
       "mean   7.433735e+04       2.135661e+06          1.946170e+05    0.780690   \n",
       "std    2.066914e+05       5.440451e+06          5.222641e+05    0.414065   \n",
       "min    0.000000e+00       0.000000e+00          0.000000e+00    0.000000   \n",
       "25%    4.045000e+03       1.270490e+05          1.139470e+04    1.000000   \n",
       "50%    1.589900e+04       4.397470e+05          4.131680e+04    1.000000   \n",
       "75%    4.403400e+04       1.273160e+06          1.152933e+05    1.000000   \n",
       "max    1.801551e+06       4.380500e+07          4.486176e+06    1.000000   \n",
       "\n",
       "        Ownership  \n",
       "count  725.000000  \n",
       "mean     1.423448  \n",
       "std      1.049205  \n",
       "min      0.000000  \n",
       "25%      1.000000  \n",
       "50%      1.000000  \n",
       "75%      2.000000  \n",
       "max      4.000000  "
      ]
     },
     "execution_count": 13,
     "metadata": {},
     "output_type": "execute_result"
    }
   ],
   "source": [
    "dffltx161718.describe()"
   ]
  },
  {
   "cell_type": "code",
   "execution_count": 14,
   "metadata": {},
   "outputs": [],
   "source": [
    "X = dffltx161718[['Net Count', 'Net Megawatthours', 'Net Thousand Dollars','Ownership']]\n",
    "y = dffltx161718[['State']]"
   ]
  },
  {
   "cell_type": "code",
   "execution_count": 23,
   "metadata": {},
   "outputs": [],
   "source": [
    "from sklearn.model_selection import train_test_split\n",
    "from sklearn.tree import DecisionTreeClassifier\n",
    "from sklearn.metrics import classification_report,confusion_matrix\n",
    "from sklearn.ensemble import RandomForestClassifier"
   ]
  },
  {
   "cell_type": "code",
   "execution_count": 16,
   "metadata": {},
   "outputs": [],
   "source": [
    "X_train, X_test, y_train, y_test = train_test_split(X,y,test_size=.30)"
   ]
  },
  {
   "cell_type": "code",
   "execution_count": 17,
   "metadata": {},
   "outputs": [],
   "source": [
    "dtree = DecisionTreeClassifier()"
   ]
  },
  {
   "cell_type": "code",
   "execution_count": 18,
   "metadata": {},
   "outputs": [
    {
     "data": {
      "text/plain": [
       "DecisionTreeClassifier(class_weight=None, criterion='gini', max_depth=None,\n",
       "                       max_features=None, max_leaf_nodes=None,\n",
       "                       min_impurity_decrease=0.0, min_impurity_split=None,\n",
       "                       min_samples_leaf=1, min_samples_split=2,\n",
       "                       min_weight_fraction_leaf=0.0, presort=False,\n",
       "                       random_state=None, splitter='best')"
      ]
     },
     "execution_count": 18,
     "metadata": {},
     "output_type": "execute_result"
    }
   ],
   "source": [
    "dtree.fit(X_train,y_train)"
   ]
  },
  {
   "cell_type": "code",
   "execution_count": 19,
   "metadata": {},
   "outputs": [],
   "source": [
    "predictions = dtree.predict(X_test)"
   ]
  },
  {
   "cell_type": "code",
   "execution_count": 20,
   "metadata": {},
   "outputs": [
    {
     "name": "stdout",
     "output_type": "stream",
     "text": [
      "[[ 38  14]\n",
      " [  8 158]]\n",
      "\n",
      "\n",
      "              precision    recall  f1-score   support\n",
      "\n",
      "           0       0.83      0.73      0.78        52\n",
      "           1       0.92      0.95      0.93       166\n",
      "\n",
      "    accuracy                           0.90       218\n",
      "   macro avg       0.87      0.84      0.86       218\n",
      "weighted avg       0.90      0.90      0.90       218\n",
      "\n"
     ]
    }
   ],
   "source": [
    "print(confusion_matrix(y_test,predictions))\n",
    "print('\\n')\n",
    "print(classification_report(y_test,predictions))"
   ]
  },
  {
   "cell_type": "code",
   "execution_count": 24,
   "metadata": {},
   "outputs": [],
   "source": [
    "rfc = RandomForestClassifier()"
   ]
  },
  {
   "cell_type": "code",
   "execution_count": 25,
   "metadata": {},
   "outputs": [],
   "source": [
    "rfc = RandomForestClassifier(n_estimators=100)"
   ]
  },
  {
   "cell_type": "code",
   "execution_count": 26,
   "metadata": {},
   "outputs": [
    {
     "name": "stderr",
     "output_type": "stream",
     "text": [
      "C:\\Users\\matth\\Anaconda3\\lib\\site-packages\\ipykernel_launcher.py:1: DataConversionWarning:\n",
      "\n",
      "A column-vector y was passed when a 1d array was expected. Please change the shape of y to (n_samples,), for example using ravel().\n",
      "\n"
     ]
    },
    {
     "data": {
      "text/plain": [
       "RandomForestClassifier(bootstrap=True, class_weight=None, criterion='gini',\n",
       "                       max_depth=None, max_features='auto', max_leaf_nodes=None,\n",
       "                       min_impurity_decrease=0.0, min_impurity_split=None,\n",
       "                       min_samples_leaf=1, min_samples_split=2,\n",
       "                       min_weight_fraction_leaf=0.0, n_estimators=100,\n",
       "                       n_jobs=None, oob_score=False, random_state=None,\n",
       "                       verbose=0, warm_start=False)"
      ]
     },
     "execution_count": 26,
     "metadata": {},
     "output_type": "execute_result"
    }
   ],
   "source": [
    "rfc.fit(X_train,y_train)"
   ]
  },
  {
   "cell_type": "code",
   "execution_count": null,
   "metadata": {},
   "outputs": [],
   "source": []
  },
  {
   "cell_type": "code",
   "execution_count": 27,
   "metadata": {},
   "outputs": [],
   "source": [
    "rfc_pred = rfc.predict(X_test)"
   ]
  },
  {
   "cell_type": "code",
   "execution_count": 28,
   "metadata": {},
   "outputs": [
    {
     "name": "stdout",
     "output_type": "stream",
     "text": [
      "[[ 37  15]\n",
      " [  7 159]]\n",
      "\n",
      "\n",
      "              precision    recall  f1-score   support\n",
      "\n",
      "           0       0.84      0.71      0.77        52\n",
      "           1       0.91      0.96      0.94       166\n",
      "\n",
      "    accuracy                           0.90       218\n",
      "   macro avg       0.88      0.83      0.85       218\n",
      "weighted avg       0.90      0.90      0.90       218\n",
      "\n"
     ]
    }
   ],
   "source": [
    "print(confusion_matrix(y_test,rfc_pred))\n",
    "print('\\n')\n",
    "print(classification_report(y_test,rfc_pred))"
   ]
  },
  {
   "cell_type": "code",
   "execution_count": null,
   "metadata": {},
   "outputs": [],
   "source": []
  }
 ],
 "metadata": {
  "kernelspec": {
   "display_name": "Python 3",
   "language": "python",
   "name": "python3"
  },
  "language_info": {
   "codemirror_mode": {
    "name": "ipython",
    "version": 3
   },
   "file_extension": ".py",
   "mimetype": "text/x-python",
   "name": "python",
   "nbconvert_exporter": "python",
   "pygments_lexer": "ipython3",
   "version": "3.7.4"
  }
 },
 "nbformat": 4,
 "nbformat_minor": 2
}
